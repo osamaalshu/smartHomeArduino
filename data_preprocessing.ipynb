{
 "cells": [
  {
   "cell_type": "code",
   "execution_count": 374,
   "metadata": {},
   "outputs": [],
   "source": [
    "import pandas as pd"
   ]
  },
  {
   "cell_type": "markdown",
   "metadata": {},
   "source": [
    "## Extracting Temperature and Tariff data"
   ]
  },
  {
   "cell_type": "code",
   "execution_count": 375,
   "metadata": {},
   "outputs": [],
   "source": [
    "# Getting the data from Arduino CLoud that was automatically collected\n",
    "d1 = pd.read_csv('iot_project-electricityRate.csv') # Electricity Tariff\n",
    "d2 = pd.read_csv('iot_project-homeTemp.csv') # Internal Room Temp\n",
    "d3 = pd.read_csv('iot_project-outdoorTemp.csv') # Outdoor Weather Temp"
   ]
  },
  {
   "cell_type": "code",
   "execution_count": 376,
   "metadata": {},
   "outputs": [
    {
     "data": {
      "text/plain": [
       "(8298, 2)"
      ]
     },
     "execution_count": 376,
     "metadata": {},
     "output_type": "execute_result"
    }
   ],
   "source": [
    "d3.shape"
   ]
  },
  {
   "cell_type": "code",
   "execution_count": 377,
   "metadata": {},
   "outputs": [
    {
     "data": {
      "text/html": [
       "<div>\n",
       "<style scoped>\n",
       "    .dataframe tbody tr th:only-of-type {\n",
       "        vertical-align: middle;\n",
       "    }\n",
       "\n",
       "    .dataframe tbody tr th {\n",
       "        vertical-align: top;\n",
       "    }\n",
       "\n",
       "    .dataframe thead th {\n",
       "        text-align: right;\n",
       "    }\n",
       "</style>\n",
       "<table border=\"1\" class=\"dataframe\">\n",
       "  <thead>\n",
       "    <tr style=\"text-align: right;\">\n",
       "      <th></th>\n",
       "      <th>time</th>\n",
       "      <th>value</th>\n",
       "    </tr>\n",
       "  </thead>\n",
       "  <tbody>\n",
       "    <tr>\n",
       "      <th>0</th>\n",
       "      <td>2024-12-05T00:00:41.181931534Z</td>\n",
       "      <td>18.480000</td>\n",
       "    </tr>\n",
       "    <tr>\n",
       "      <th>1</th>\n",
       "      <td>2024-12-05T00:01:53.911248607Z</td>\n",
       "      <td>19.467001</td>\n",
       "    </tr>\n",
       "    <tr>\n",
       "      <th>2</th>\n",
       "      <td>2024-12-05T00:03:07.0999956Z</td>\n",
       "      <td>19.467001</td>\n",
       "    </tr>\n",
       "    <tr>\n",
       "      <th>3</th>\n",
       "      <td>2024-12-05T00:04:20.117557107Z</td>\n",
       "      <td>19.467001</td>\n",
       "    </tr>\n",
       "    <tr>\n",
       "      <th>4</th>\n",
       "      <td>2024-12-05T00:05:33.028128013Z</td>\n",
       "      <td>19.467001</td>\n",
       "    </tr>\n",
       "  </tbody>\n",
       "</table>\n",
       "</div>"
      ],
      "text/plain": [
       "                             time      value\n",
       "0  2024-12-05T00:00:41.181931534Z  18.480000\n",
       "1  2024-12-05T00:01:53.911248607Z  19.467001\n",
       "2    2024-12-05T00:03:07.0999956Z  19.467001\n",
       "3  2024-12-05T00:04:20.117557107Z  19.467001\n",
       "4  2024-12-05T00:05:33.028128013Z  19.467001"
      ]
     },
     "execution_count": 377,
     "metadata": {},
     "output_type": "execute_result"
    }
   ],
   "source": [
    "d1.head()"
   ]
  },
  {
   "cell_type": "code",
   "execution_count": 378,
   "metadata": {},
   "outputs": [],
   "source": [
    "def standardize_timestamps(df):\n",
    "    df = df.copy()\n",
    "    \n",
    "    # Convert the time to datetime if it's not already\n",
    "    df['time'] = pd.to_datetime(df['time'])\n",
    "    \n",
    "    # Group by rounded timestamps and take the first occurrence to remove duplicates\n",
    "    df = df.groupby('time').first().reset_index()\n",
    "    \n",
    "    # Set time as index and sort\n",
    "    df.set_index('time', inplace=True)\n",
    "    df.sort_index(inplace=True)\n",
    "    \n",
    "    return df"
   ]
  },
  {
   "cell_type": "code",
   "execution_count": 379,
   "metadata": {},
   "outputs": [],
   "source": [
    "# Round timestamps to the nearest 30 minutes for consistent merging\n",
    "def round_timestamps_one(df):\n",
    "    df.index = df.index.round('1min')\n",
    "    return df    "
   ]
  },
  {
   "cell_type": "code",
   "execution_count": 380,
   "metadata": {},
   "outputs": [],
   "source": [
    "# Round timestamps to the nearest 30 minutes for consistent merging\n",
    "def round_timestamps(df):\n",
    "    df.index = df.index.round('30min')\n",
    "    return df    "
   ]
  },
  {
   "cell_type": "code",
   "execution_count": 381,
   "metadata": {},
   "outputs": [
    {
     "data": {
      "text/html": [
       "<div>\n",
       "<style scoped>\n",
       "    .dataframe tbody tr th:only-of-type {\n",
       "        vertical-align: middle;\n",
       "    }\n",
       "\n",
       "    .dataframe tbody tr th {\n",
       "        vertical-align: top;\n",
       "    }\n",
       "\n",
       "    .dataframe thead th {\n",
       "        text-align: right;\n",
       "    }\n",
       "</style>\n",
       "<table border=\"1\" class=\"dataframe\">\n",
       "  <thead>\n",
       "    <tr style=\"text-align: right;\">\n",
       "      <th></th>\n",
       "      <th>time</th>\n",
       "      <th>value</th>\n",
       "    </tr>\n",
       "  </thead>\n",
       "  <tbody>\n",
       "    <tr>\n",
       "      <th>0</th>\n",
       "      <td>2024-12-05T00:00:41.181931534Z</td>\n",
       "      <td>18.480000</td>\n",
       "    </tr>\n",
       "    <tr>\n",
       "      <th>1</th>\n",
       "      <td>2024-12-05T00:01:53.911248607Z</td>\n",
       "      <td>19.467001</td>\n",
       "    </tr>\n",
       "    <tr>\n",
       "      <th>2</th>\n",
       "      <td>2024-12-05T00:03:07.0999956Z</td>\n",
       "      <td>19.467001</td>\n",
       "    </tr>\n",
       "    <tr>\n",
       "      <th>3</th>\n",
       "      <td>2024-12-05T00:04:20.117557107Z</td>\n",
       "      <td>19.467001</td>\n",
       "    </tr>\n",
       "    <tr>\n",
       "      <th>4</th>\n",
       "      <td>2024-12-05T00:05:33.028128013Z</td>\n",
       "      <td>19.467001</td>\n",
       "    </tr>\n",
       "  </tbody>\n",
       "</table>\n",
       "</div>"
      ],
      "text/plain": [
       "                             time      value\n",
       "0  2024-12-05T00:00:41.181931534Z  18.480000\n",
       "1  2024-12-05T00:01:53.911248607Z  19.467001\n",
       "2    2024-12-05T00:03:07.0999956Z  19.467001\n",
       "3  2024-12-05T00:04:20.117557107Z  19.467001\n",
       "4  2024-12-05T00:05:33.028128013Z  19.467001"
      ]
     },
     "execution_count": 381,
     "metadata": {},
     "output_type": "execute_result"
    }
   ],
   "source": [
    "d1.head()"
   ]
  },
  {
   "cell_type": "code",
   "execution_count": 382,
   "metadata": {},
   "outputs": [],
   "source": [
    "d1 = standardize_timestamps(d1)\n",
    "d2 = standardize_timestamps(d2)\n",
    "d3 = standardize_timestamps(d3)"
   ]
  },
  {
   "cell_type": "code",
   "execution_count": 383,
   "metadata": {},
   "outputs": [],
   "source": [
    "# Merging the data in one df\n",
    "data = d1.merge(d2, on='time', how='outer')\n",
    "data = data.merge(d3, on='time', how='outer')"
   ]
  },
  {
   "cell_type": "code",
   "execution_count": 384,
   "metadata": {},
   "outputs": [],
   "source": [
    "data = data.rename(columns={\n",
    "    'value_x': 'electricity_rate',\n",
    "    'value_y': 'indoor_temp',\n",
    "    'value': 'outdoor_temp'\n",
    "})"
   ]
  },
  {
   "cell_type": "code",
   "execution_count": 385,
   "metadata": {},
   "outputs": [
    {
     "data": {
      "text/plain": [
       "(8304, 3)"
      ]
     },
     "execution_count": 385,
     "metadata": {},
     "output_type": "execute_result"
    }
   ],
   "source": [
    "data.shape"
   ]
  },
  {
   "cell_type": "code",
   "execution_count": 386,
   "metadata": {},
   "outputs": [
    {
     "data": {
      "text/plain": [
       "(8292, 3)"
      ]
     },
     "execution_count": 386,
     "metadata": {},
     "output_type": "execute_result"
    }
   ],
   "source": [
    "data.dropna(inplace=True)\n",
    "data.shape"
   ]
  },
  {
   "cell_type": "code",
   "execution_count": 387,
   "metadata": {},
   "outputs": [
    {
     "name": "stdout",
     "output_type": "stream",
     "text": [
      "<class 'pandas.core.frame.DataFrame'>\n",
      "DatetimeIndex: 8292 entries, 2024-12-05 00:00:41.181931534+00:00 to 2024-12-12 01:04:06.053114536+00:00\n",
      "Data columns (total 3 columns):\n",
      " #   Column            Non-Null Count  Dtype  \n",
      "---  ------            --------------  -----  \n",
      " 0   electricity_rate  8292 non-null   float64\n",
      " 1   indoor_temp       8292 non-null   float64\n",
      " 2   outdoor_temp      8292 non-null   float64\n",
      "dtypes: float64(3)\n",
      "memory usage: 259.1 KB\n"
     ]
    }
   ],
   "source": [
    "data.info()"
   ]
  },
  {
   "cell_type": "code",
   "execution_count": 388,
   "metadata": {},
   "outputs": [
    {
     "data": {
      "text/html": [
       "<div>\n",
       "<style scoped>\n",
       "    .dataframe tbody tr th:only-of-type {\n",
       "        vertical-align: middle;\n",
       "    }\n",
       "\n",
       "    .dataframe tbody tr th {\n",
       "        vertical-align: top;\n",
       "    }\n",
       "\n",
       "    .dataframe thead th {\n",
       "        text-align: right;\n",
       "    }\n",
       "</style>\n",
       "<table border=\"1\" class=\"dataframe\">\n",
       "  <thead>\n",
       "    <tr style=\"text-align: right;\">\n",
       "      <th></th>\n",
       "      <th>electricity_rate</th>\n",
       "      <th>indoor_temp</th>\n",
       "      <th>outdoor_temp</th>\n",
       "    </tr>\n",
       "  </thead>\n",
       "  <tbody>\n",
       "    <tr>\n",
       "      <th>count</th>\n",
       "      <td>8292.000000</td>\n",
       "      <td>8292.000000</td>\n",
       "      <td>8292.000000</td>\n",
       "    </tr>\n",
       "    <tr>\n",
       "      <th>mean</th>\n",
       "      <td>12.214796</td>\n",
       "      <td>18.320964</td>\n",
       "      <td>8.016564</td>\n",
       "    </tr>\n",
       "    <tr>\n",
       "      <th>std</th>\n",
       "      <td>6.732691</td>\n",
       "      <td>1.837422</td>\n",
       "      <td>2.113489</td>\n",
       "    </tr>\n",
       "    <tr>\n",
       "      <th>min</th>\n",
       "      <td>0.420000</td>\n",
       "      <td>12.250000</td>\n",
       "      <td>5.670000</td>\n",
       "    </tr>\n",
       "    <tr>\n",
       "      <th>25%</th>\n",
       "      <td>5.040000</td>\n",
       "      <td>18.062500</td>\n",
       "      <td>6.610000</td>\n",
       "    </tr>\n",
       "    <tr>\n",
       "      <th>50%</th>\n",
       "      <td>13.860000</td>\n",
       "      <td>18.937500</td>\n",
       "      <td>7.200000</td>\n",
       "    </tr>\n",
       "    <tr>\n",
       "      <th>75%</th>\n",
       "      <td>18.018000</td>\n",
       "      <td>19.187500</td>\n",
       "      <td>8.860000</td>\n",
       "    </tr>\n",
       "    <tr>\n",
       "      <th>max</th>\n",
       "      <td>34.996498</td>\n",
       "      <td>20.625000</td>\n",
       "      <td>14.290000</td>\n",
       "    </tr>\n",
       "  </tbody>\n",
       "</table>\n",
       "</div>"
      ],
      "text/plain": [
       "       electricity_rate  indoor_temp  outdoor_temp\n",
       "count       8292.000000  8292.000000   8292.000000\n",
       "mean          12.214796    18.320964      8.016564\n",
       "std            6.732691     1.837422      2.113489\n",
       "min            0.420000    12.250000      5.670000\n",
       "25%            5.040000    18.062500      6.610000\n",
       "50%           13.860000    18.937500      7.200000\n",
       "75%           18.018000    19.187500      8.860000\n",
       "max           34.996498    20.625000     14.290000"
      ]
     },
     "execution_count": 388,
     "metadata": {},
     "output_type": "execute_result"
    }
   ],
   "source": [
    "data.describe()"
   ]
  },
  {
   "cell_type": "code",
   "execution_count": 389,
   "metadata": {},
   "outputs": [],
   "source": [
    "# Importing electricity consumption data\n",
    "d4 = pd.read_csv('electricity_consuption.csv')"
   ]
  },
  {
   "cell_type": "code",
   "execution_count": 390,
   "metadata": {},
   "outputs": [
    {
     "data": {
      "text/plain": [
       "Index(['Consumption (kwh)', ' Estimated Cost Inc. Tax (p)', ' Start', ' End'], dtype='object')"
      ]
     },
     "execution_count": 390,
     "metadata": {},
     "output_type": "execute_result"
    }
   ],
   "source": [
    "d4.keys()"
   ]
  },
  {
   "cell_type": "code",
   "execution_count": 391,
   "metadata": {},
   "outputs": [],
   "source": [
    "# Fixing the columns of consumption data\n",
    "d4[' Start'] = pd.to_datetime(d4[' Start'])\n",
    "d4.drop(columns=' End', inplace=True)\n",
    "d4 = d4.rename(columns={\n",
    "    ' Start': 'time'\n",
    "})"
   ]
  },
  {
   "cell_type": "code",
   "execution_count": 392,
   "metadata": {},
   "outputs": [],
   "source": [
    "# Standardizing and rounding the consumption data\n",
    "data_energy = round_timestamps(standardize_timestamps(d4))"
   ]
  },
  {
   "cell_type": "code",
   "execution_count": 393,
   "metadata": {},
   "outputs": [
    {
     "data": {
      "text/html": [
       "<div>\n",
       "<style scoped>\n",
       "    .dataframe tbody tr th:only-of-type {\n",
       "        vertical-align: middle;\n",
       "    }\n",
       "\n",
       "    .dataframe tbody tr th {\n",
       "        vertical-align: top;\n",
       "    }\n",
       "\n",
       "    .dataframe thead th {\n",
       "        text-align: right;\n",
       "    }\n",
       "</style>\n",
       "<table border=\"1\" class=\"dataframe\">\n",
       "  <thead>\n",
       "    <tr style=\"text-align: right;\">\n",
       "      <th></th>\n",
       "      <th>electricity_rate</th>\n",
       "      <th>indoor_temp</th>\n",
       "      <th>outdoor_temp</th>\n",
       "    </tr>\n",
       "    <tr>\n",
       "      <th>time</th>\n",
       "      <th></th>\n",
       "      <th></th>\n",
       "      <th></th>\n",
       "    </tr>\n",
       "  </thead>\n",
       "  <tbody>\n",
       "    <tr>\n",
       "      <th>2024-12-05 00:01:00+00:00</th>\n",
       "      <td>18.480000</td>\n",
       "      <td>20.0000</td>\n",
       "      <td>9.400001</td>\n",
       "    </tr>\n",
       "    <tr>\n",
       "      <th>2024-12-05 00:02:00+00:00</th>\n",
       "      <td>19.467001</td>\n",
       "      <td>19.9375</td>\n",
       "      <td>9.400001</td>\n",
       "    </tr>\n",
       "    <tr>\n",
       "      <th>2024-12-05 00:03:00+00:00</th>\n",
       "      <td>19.467001</td>\n",
       "      <td>19.9375</td>\n",
       "      <td>9.400001</td>\n",
       "    </tr>\n",
       "    <tr>\n",
       "      <th>2024-12-05 00:04:00+00:00</th>\n",
       "      <td>19.467001</td>\n",
       "      <td>19.9375</td>\n",
       "      <td>9.400001</td>\n",
       "    </tr>\n",
       "    <tr>\n",
       "      <th>2024-12-05 00:06:00+00:00</th>\n",
       "      <td>19.467001</td>\n",
       "      <td>19.9375</td>\n",
       "      <td>9.400001</td>\n",
       "    </tr>\n",
       "    <tr>\n",
       "      <th>...</th>\n",
       "      <td>...</td>\n",
       "      <td>...</td>\n",
       "      <td>...</td>\n",
       "    </tr>\n",
       "    <tr>\n",
       "      <th>2024-12-12 00:59:00+00:00</th>\n",
       "      <td>18.270000</td>\n",
       "      <td>18.8750</td>\n",
       "      <td>6.510000</td>\n",
       "    </tr>\n",
       "    <tr>\n",
       "      <th>2024-12-12 01:00:00+00:00</th>\n",
       "      <td>18.270000</td>\n",
       "      <td>18.8750</td>\n",
       "      <td>6.510000</td>\n",
       "    </tr>\n",
       "    <tr>\n",
       "      <th>2024-12-12 01:02:00+00:00</th>\n",
       "      <td>17.829000</td>\n",
       "      <td>18.8750</td>\n",
       "      <td>6.510000</td>\n",
       "    </tr>\n",
       "    <tr>\n",
       "      <th>2024-12-12 01:03:00+00:00</th>\n",
       "      <td>18.270000</td>\n",
       "      <td>18.8750</td>\n",
       "      <td>6.510000</td>\n",
       "    </tr>\n",
       "    <tr>\n",
       "      <th>2024-12-12 01:04:00+00:00</th>\n",
       "      <td>18.270000</td>\n",
       "      <td>18.8750</td>\n",
       "      <td>6.510000</td>\n",
       "    </tr>\n",
       "  </tbody>\n",
       "</table>\n",
       "<p>8292 rows × 3 columns</p>\n",
       "</div>"
      ],
      "text/plain": [
       "                           electricity_rate  indoor_temp  outdoor_temp\n",
       "time                                                                  \n",
       "2024-12-05 00:01:00+00:00         18.480000      20.0000      9.400001\n",
       "2024-12-05 00:02:00+00:00         19.467001      19.9375      9.400001\n",
       "2024-12-05 00:03:00+00:00         19.467001      19.9375      9.400001\n",
       "2024-12-05 00:04:00+00:00         19.467001      19.9375      9.400001\n",
       "2024-12-05 00:06:00+00:00         19.467001      19.9375      9.400001\n",
       "...                                     ...          ...           ...\n",
       "2024-12-12 00:59:00+00:00         18.270000      18.8750      6.510000\n",
       "2024-12-12 01:00:00+00:00         18.270000      18.8750      6.510000\n",
       "2024-12-12 01:02:00+00:00         17.829000      18.8750      6.510000\n",
       "2024-12-12 01:03:00+00:00         18.270000      18.8750      6.510000\n",
       "2024-12-12 01:04:00+00:00         18.270000      18.8750      6.510000\n",
       "\n",
       "[8292 rows x 3 columns]"
      ]
     },
     "execution_count": 393,
     "metadata": {},
     "output_type": "execute_result"
    }
   ],
   "source": [
    "# Data raw will be used for the sleep data\n",
    "round_timestamps_one(data)"
   ]
  },
  {
   "cell_type": "code",
   "execution_count": 394,
   "metadata": {},
   "outputs": [],
   "source": [
    "data_raw = data.copy()"
   ]
  },
  {
   "cell_type": "code",
   "execution_count": 395,
   "metadata": {},
   "outputs": [
    {
     "data": {
      "text/html": [
       "<div>\n",
       "<style scoped>\n",
       "    .dataframe tbody tr th:only-of-type {\n",
       "        vertical-align: middle;\n",
       "    }\n",
       "\n",
       "    .dataframe tbody tr th {\n",
       "        vertical-align: top;\n",
       "    }\n",
       "\n",
       "    .dataframe thead th {\n",
       "        text-align: right;\n",
       "    }\n",
       "</style>\n",
       "<table border=\"1\" class=\"dataframe\">\n",
       "  <thead>\n",
       "    <tr style=\"text-align: right;\">\n",
       "      <th></th>\n",
       "      <th>electricity_rate</th>\n",
       "      <th>indoor_temp</th>\n",
       "      <th>outdoor_temp</th>\n",
       "    </tr>\n",
       "    <tr>\n",
       "      <th>time</th>\n",
       "      <th></th>\n",
       "      <th></th>\n",
       "      <th></th>\n",
       "    </tr>\n",
       "  </thead>\n",
       "  <tbody>\n",
       "    <tr>\n",
       "      <th>2024-12-05 00:01:00+00:00</th>\n",
       "      <td>18.480000</td>\n",
       "      <td>20.0000</td>\n",
       "      <td>9.400001</td>\n",
       "    </tr>\n",
       "    <tr>\n",
       "      <th>2024-12-05 00:02:00+00:00</th>\n",
       "      <td>19.467001</td>\n",
       "      <td>19.9375</td>\n",
       "      <td>9.400001</td>\n",
       "    </tr>\n",
       "    <tr>\n",
       "      <th>2024-12-05 00:03:00+00:00</th>\n",
       "      <td>19.467001</td>\n",
       "      <td>19.9375</td>\n",
       "      <td>9.400001</td>\n",
       "    </tr>\n",
       "    <tr>\n",
       "      <th>2024-12-05 00:04:00+00:00</th>\n",
       "      <td>19.467001</td>\n",
       "      <td>19.9375</td>\n",
       "      <td>9.400001</td>\n",
       "    </tr>\n",
       "    <tr>\n",
       "      <th>2024-12-05 00:06:00+00:00</th>\n",
       "      <td>19.467001</td>\n",
       "      <td>19.9375</td>\n",
       "      <td>9.400001</td>\n",
       "    </tr>\n",
       "  </tbody>\n",
       "</table>\n",
       "</div>"
      ],
      "text/plain": [
       "                           electricity_rate  indoor_temp  outdoor_temp\n",
       "time                                                                  \n",
       "2024-12-05 00:01:00+00:00         18.480000      20.0000      9.400001\n",
       "2024-12-05 00:02:00+00:00         19.467001      19.9375      9.400001\n",
       "2024-12-05 00:03:00+00:00         19.467001      19.9375      9.400001\n",
       "2024-12-05 00:04:00+00:00         19.467001      19.9375      9.400001\n",
       "2024-12-05 00:06:00+00:00         19.467001      19.9375      9.400001"
      ]
     },
     "execution_count": 395,
     "metadata": {},
     "output_type": "execute_result"
    }
   ],
   "source": [
    "data.head()"
   ]
  },
  {
   "cell_type": "code",
   "execution_count": 396,
   "metadata": {},
   "outputs": [],
   "source": [
    "data.to_csv('temperature_tariff_data.csv')"
   ]
  },
  {
   "cell_type": "markdown",
   "metadata": {},
   "source": [
    "## Electricity Consumption Data"
   ]
  },
  {
   "cell_type": "code",
   "execution_count": 397,
   "metadata": {},
   "outputs": [],
   "source": [
    "# Rounding the other dataset\n",
    "data_grouped = round_timestamps(data)"
   ]
  },
  {
   "cell_type": "code",
   "execution_count": 398,
   "metadata": {},
   "outputs": [],
   "source": [
    "# Group the other dataset by the rounded timestamps and take the first/mean values\n",
    "data_grouped = data_grouped.groupby('time').agg({\n",
    "    'electricity_rate': 'mean',\n",
    "    'indoor_temp': 'mean',\n",
    "    'outdoor_temp': 'mean'\n",
    "}).reset_index()"
   ]
  },
  {
   "cell_type": "code",
   "execution_count": 399,
   "metadata": {},
   "outputs": [],
   "source": [
    "# Merging the consuption data with the tariff and temperature data\n",
    "data_energy = data_energy.merge(\n",
    "    data_grouped, \n",
    "    left_on='time', \n",
    "    right_on='time', \n",
    "    how='left'\n",
    ")"
   ]
  },
  {
   "cell_type": "code",
   "execution_count": 400,
   "metadata": {},
   "outputs": [],
   "source": [
    "data_energy.dropna(inplace=True)"
   ]
  },
  {
   "cell_type": "code",
   "execution_count": 401,
   "metadata": {},
   "outputs": [
    {
     "data": {
      "text/plain": [
       "Index(['time', 'Consumption (kwh)', ' Estimated Cost Inc. Tax (p)',\n",
       "       'electricity_rate', 'indoor_temp', 'outdoor_temp'],\n",
       "      dtype='object')"
      ]
     },
     "execution_count": 401,
     "metadata": {},
     "output_type": "execute_result"
    }
   ],
   "source": [
    "data_energy.keys()"
   ]
  },
  {
   "cell_type": "code",
   "execution_count": 402,
   "metadata": {},
   "outputs": [],
   "source": [
    "data_energy = data_energy.rename(columns={\n",
    "    'Consumption (kwh)': 'consumption',\n",
    "    ' Estimated Cost Inc. Tax (p)': 'cost',\n",
    "})"
   ]
  },
  {
   "cell_type": "code",
   "execution_count": 403,
   "metadata": {},
   "outputs": [
    {
     "data": {
      "text/plain": [
       "Index(['time', 'consumption', 'cost', 'electricity_rate', 'indoor_temp',\n",
       "       'outdoor_temp'],\n",
       "      dtype='object')"
      ]
     },
     "execution_count": 403,
     "metadata": {},
     "output_type": "execute_result"
    }
   ],
   "source": [
    "data_energy.keys()"
   ]
  },
  {
   "cell_type": "code",
   "execution_count": 404,
   "metadata": {},
   "outputs": [],
   "source": [
    "data_energy.to_csv('consumption_temperature_data.csv')"
   ]
  },
  {
   "cell_type": "markdown",
   "metadata": {},
   "source": [
    "## Extracting sleep data"
   ]
  },
  {
   "cell_type": "code",
   "execution_count": 487,
   "metadata": {},
   "outputs": [],
   "source": [
    "d5 = pd.read_csv('SleepData.csv')"
   ]
  },
  {
   "cell_type": "code",
   "execution_count": 488,
   "metadata": {},
   "outputs": [
    {
     "data": {
      "text/plain": [
       "Index(['Date', 'Time REM(hr)', 'Time asleep(hr)', 'Time awake(hr)',\n",
       "       'Time core(hr)', 'Time deep(hr)'],\n",
       "      dtype='object')"
      ]
     },
     "execution_count": 488,
     "metadata": {},
     "output_type": "execute_result"
    }
   ],
   "source": [
    "d5.columns"
   ]
  },
  {
   "cell_type": "code",
   "execution_count": 489,
   "metadata": {},
   "outputs": [],
   "source": [
    "d5['time'] = d5['Date'].str.split(\" - \").str[0]\n",
    "d5.drop(columns='Date', inplace=True)"
   ]
  },
  {
   "cell_type": "code",
   "execution_count": 490,
   "metadata": {},
   "outputs": [
    {
     "data": {
      "text/plain": [
       "(220, 6)"
      ]
     },
     "execution_count": 490,
     "metadata": {},
     "output_type": "execute_result"
    }
   ],
   "source": [
    "d5.shape"
   ]
  },
  {
   "cell_type": "code",
   "execution_count": 491,
   "metadata": {},
   "outputs": [],
   "source": [
    "sleep_data = standardize_timestamps(d5)"
   ]
  },
  {
   "cell_type": "code",
   "execution_count": 492,
   "metadata": {},
   "outputs": [],
   "source": [
    "sleep_data = round_timestamps_one(sleep_data)"
   ]
  },
  {
   "cell_type": "code",
   "execution_count": 493,
   "metadata": {},
   "outputs": [
    {
     "name": "stdout",
     "output_type": "stream",
     "text": [
      "                     Time REM(hr)  Time asleep(hr)  Time awake(hr)  \\\n",
      "time                                                                 \n",
      "2024-12-01 02:05:00           NaN              NaN             NaN   \n",
      "2024-12-01 02:25:00           NaN              NaN             NaN   \n",
      "2024-12-01 03:11:00           NaN              NaN             NaN   \n",
      "2024-12-01 04:07:00         0.092              NaN             NaN   \n",
      "2024-12-01 04:13:00           NaN              NaN             NaN   \n",
      "\n",
      "                     Time core(hr)  Time deep(hr)  \n",
      "time                                               \n",
      "2024-12-01 02:05:00          0.325            NaN  \n",
      "2024-12-01 02:25:00            NaN          0.767  \n",
      "2024-12-01 03:11:00          0.942            NaN  \n",
      "2024-12-01 04:07:00            NaN            NaN  \n",
      "2024-12-01 04:13:00          0.192            NaN  \n"
     ]
    }
   ],
   "source": [
    "print(sleep_data.head())"
   ]
  },
  {
   "cell_type": "code",
   "execution_count": 494,
   "metadata": {},
   "outputs": [],
   "source": [
    "def fill_sleep_type(row):\n",
    "    for col in row.index:\n",
    "        if not pd.isna(row[col]):\n",
    "            return col.replace(\"Time \", \"\").replace(\"(hr)\", \"\").strip()"
   ]
  },
  {
   "cell_type": "code",
   "execution_count": 495,
   "metadata": {},
   "outputs": [],
   "source": [
    "sleep_data['sleep_type'] = sleep_data.apply(fill_sleep_type, axis=1)"
   ]
  },
  {
   "cell_type": "code",
   "execution_count": 496,
   "metadata": {},
   "outputs": [
    {
     "data": {
      "text/plain": [
       "Index(['Time REM(hr)', 'Time asleep(hr)', 'Time awake(hr)', 'Time core(hr)',\n",
       "       'Time deep(hr)', 'sleep_type'],\n",
       "      dtype='object')"
      ]
     },
     "execution_count": 496,
     "metadata": {},
     "output_type": "execute_result"
    }
   ],
   "source": [
    "sleep_data.keys()"
   ]
  },
  {
   "cell_type": "code",
   "execution_count": 497,
   "metadata": {},
   "outputs": [
    {
     "data": {
      "text/html": [
       "<div>\n",
       "<style scoped>\n",
       "    .dataframe tbody tr th:only-of-type {\n",
       "        vertical-align: middle;\n",
       "    }\n",
       "\n",
       "    .dataframe tbody tr th {\n",
       "        vertical-align: top;\n",
       "    }\n",
       "\n",
       "    .dataframe thead th {\n",
       "        text-align: right;\n",
       "    }\n",
       "</style>\n",
       "<table border=\"1\" class=\"dataframe\">\n",
       "  <thead>\n",
       "    <tr style=\"text-align: right;\">\n",
       "      <th></th>\n",
       "      <th>Time REM(hr)</th>\n",
       "      <th>Time asleep(hr)</th>\n",
       "      <th>Time awake(hr)</th>\n",
       "      <th>Time core(hr)</th>\n",
       "      <th>Time deep(hr)</th>\n",
       "      <th>sleep_type</th>\n",
       "    </tr>\n",
       "    <tr>\n",
       "      <th>time</th>\n",
       "      <th></th>\n",
       "      <th></th>\n",
       "      <th></th>\n",
       "      <th></th>\n",
       "      <th></th>\n",
       "      <th></th>\n",
       "    </tr>\n",
       "  </thead>\n",
       "  <tbody>\n",
       "    <tr>\n",
       "      <th>2024-12-01 02:05:00</th>\n",
       "      <td>NaN</td>\n",
       "      <td>NaN</td>\n",
       "      <td>NaN</td>\n",
       "      <td>0.325</td>\n",
       "      <td>NaN</td>\n",
       "      <td>core</td>\n",
       "    </tr>\n",
       "    <tr>\n",
       "      <th>2024-12-01 02:25:00</th>\n",
       "      <td>NaN</td>\n",
       "      <td>NaN</td>\n",
       "      <td>NaN</td>\n",
       "      <td>NaN</td>\n",
       "      <td>0.767</td>\n",
       "      <td>deep</td>\n",
       "    </tr>\n",
       "    <tr>\n",
       "      <th>2024-12-01 03:11:00</th>\n",
       "      <td>NaN</td>\n",
       "      <td>NaN</td>\n",
       "      <td>NaN</td>\n",
       "      <td>0.942</td>\n",
       "      <td>NaN</td>\n",
       "      <td>core</td>\n",
       "    </tr>\n",
       "    <tr>\n",
       "      <th>2024-12-01 04:07:00</th>\n",
       "      <td>0.092</td>\n",
       "      <td>NaN</td>\n",
       "      <td>NaN</td>\n",
       "      <td>NaN</td>\n",
       "      <td>NaN</td>\n",
       "      <td>REM</td>\n",
       "    </tr>\n",
       "    <tr>\n",
       "      <th>2024-12-01 04:13:00</th>\n",
       "      <td>NaN</td>\n",
       "      <td>NaN</td>\n",
       "      <td>NaN</td>\n",
       "      <td>0.192</td>\n",
       "      <td>NaN</td>\n",
       "      <td>core</td>\n",
       "    </tr>\n",
       "  </tbody>\n",
       "</table>\n",
       "</div>"
      ],
      "text/plain": [
       "                     Time REM(hr)  Time asleep(hr)  Time awake(hr)  \\\n",
       "time                                                                 \n",
       "2024-12-01 02:05:00           NaN              NaN             NaN   \n",
       "2024-12-01 02:25:00           NaN              NaN             NaN   \n",
       "2024-12-01 03:11:00           NaN              NaN             NaN   \n",
       "2024-12-01 04:07:00         0.092              NaN             NaN   \n",
       "2024-12-01 04:13:00           NaN              NaN             NaN   \n",
       "\n",
       "                     Time core(hr)  Time deep(hr) sleep_type  \n",
       "time                                                          \n",
       "2024-12-01 02:05:00          0.325            NaN       core  \n",
       "2024-12-01 02:25:00            NaN          0.767       deep  \n",
       "2024-12-01 03:11:00          0.942            NaN       core  \n",
       "2024-12-01 04:07:00            NaN            NaN        REM  \n",
       "2024-12-01 04:13:00          0.192            NaN       core  "
      ]
     },
     "execution_count": 497,
     "metadata": {},
     "output_type": "execute_result"
    }
   ],
   "source": [
    "sleep_data.head()"
   ]
  },
  {
   "cell_type": "code",
   "execution_count": 498,
   "metadata": {},
   "outputs": [],
   "source": [
    "sleep_data.drop(columns=['Time REM(hr)','Time asleep(hr)','Time awake(hr)', 'Time core(hr)',\n",
    "       'Time deep(hr)'], inplace=True)"
   ]
  },
  {
   "cell_type": "code",
   "execution_count": 499,
   "metadata": {},
   "outputs": [
    {
     "data": {
      "text/plain": [
       "(8292, 3)"
      ]
     },
     "execution_count": 499,
     "metadata": {},
     "output_type": "execute_result"
    }
   ],
   "source": [
    "data_raw.shape"
   ]
  },
  {
   "cell_type": "code",
   "execution_count": 500,
   "metadata": {},
   "outputs": [],
   "source": [
    "sleep_data.index = sleep_data.index +pd.to_timedelta(4, unit='d')"
   ]
  },
  {
   "cell_type": "code",
   "execution_count": 482,
   "metadata": {},
   "outputs": [
    {
     "name": "stdout",
     "output_type": "stream",
     "text": [
      "                           electricity_rate  indoor_temp  outdoor_temp\n",
      "time                                                                  \n",
      "2024-12-05 00:01:00+00:00         18.480000      20.0000      9.400001\n",
      "2024-12-05 00:02:00+00:00         19.467001      19.9375      9.400001\n",
      "2024-12-05 00:03:00+00:00         19.467001      19.9375      9.400001\n",
      "2024-12-05 00:04:00+00:00         19.467001      19.9375      9.400001\n",
      "2024-12-05 00:06:00+00:00         19.467001      19.9375      9.400001\n"
     ]
    }
   ],
   "source": [
    "print(data_raw.head())"
   ]
  },
  {
   "cell_type": "code",
   "execution_count": 484,
   "metadata": {},
   "outputs": [
    {
     "name": "stdout",
     "output_type": "stream",
     "text": [
      "                    sleep_type\n",
      "time                          \n",
      "2024-12-05 02:05:00       core\n",
      "2024-12-05 02:25:00       deep\n",
      "2024-12-05 03:11:00       core\n",
      "2024-12-05 04:07:00        REM\n",
      "2024-12-05 04:13:00       core\n"
     ]
    }
   ],
   "source": [
    "print(sleep_data.head())"
   ]
  },
  {
   "cell_type": "code",
   "execution_count": 502,
   "metadata": {},
   "outputs": [],
   "source": [
    "sleep_data.index = sleep_data.index.tz_localize(\"UTC\")"
   ]
  },
  {
   "cell_type": "code",
   "execution_count": 504,
   "metadata": {},
   "outputs": [],
   "source": [
    "sleep_data = data_raw.merge(sleep_data, left_index=True, right_index=True, how=\"outer\")"
   ]
  },
  {
   "cell_type": "code",
   "execution_count": 507,
   "metadata": {},
   "outputs": [],
   "source": [
    "sleep_data = sleep_data.dropna()"
   ]
  },
  {
   "cell_type": "code",
   "execution_count": 508,
   "metadata": {},
   "outputs": [
    {
     "data": {
      "text/html": [
       "<div>\n",
       "<style scoped>\n",
       "    .dataframe tbody tr th:only-of-type {\n",
       "        vertical-align: middle;\n",
       "    }\n",
       "\n",
       "    .dataframe tbody tr th {\n",
       "        vertical-align: top;\n",
       "    }\n",
       "\n",
       "    .dataframe thead th {\n",
       "        text-align: right;\n",
       "    }\n",
       "</style>\n",
       "<table border=\"1\" class=\"dataframe\">\n",
       "  <thead>\n",
       "    <tr style=\"text-align: right;\">\n",
       "      <th></th>\n",
       "      <th>electricity_rate</th>\n",
       "      <th>indoor_temp</th>\n",
       "      <th>outdoor_temp</th>\n",
       "      <th>sleep_type</th>\n",
       "    </tr>\n",
       "    <tr>\n",
       "      <th>time</th>\n",
       "      <th></th>\n",
       "      <th></th>\n",
       "      <th></th>\n",
       "      <th></th>\n",
       "    </tr>\n",
       "  </thead>\n",
       "  <tbody>\n",
       "    <tr>\n",
       "      <th>2024-12-05 02:05:00+00:00</th>\n",
       "      <td>17.871000</td>\n",
       "      <td>19.8125</td>\n",
       "      <td>10.02</td>\n",
       "      <td>core</td>\n",
       "    </tr>\n",
       "    <tr>\n",
       "      <th>2024-12-05 02:25:00+00:00</th>\n",
       "      <td>18.059999</td>\n",
       "      <td>19.8125</td>\n",
       "      <td>10.19</td>\n",
       "      <td>deep</td>\n",
       "    </tr>\n",
       "    <tr>\n",
       "      <th>2024-12-05 04:07:00+00:00</th>\n",
       "      <td>17.871000</td>\n",
       "      <td>19.8750</td>\n",
       "      <td>10.63</td>\n",
       "      <td>REM</td>\n",
       "    </tr>\n",
       "    <tr>\n",
       "      <th>2024-12-05 04:13:00+00:00</th>\n",
       "      <td>18.059999</td>\n",
       "      <td>19.8750</td>\n",
       "      <td>10.62</td>\n",
       "      <td>core</td>\n",
       "    </tr>\n",
       "    <tr>\n",
       "      <th>2024-12-05 04:24:00+00:00</th>\n",
       "      <td>18.059999</td>\n",
       "      <td>19.9375</td>\n",
       "      <td>10.62</td>\n",
       "      <td>REM</td>\n",
       "    </tr>\n",
       "  </tbody>\n",
       "</table>\n",
       "</div>"
      ],
      "text/plain": [
       "                           electricity_rate  indoor_temp  outdoor_temp  \\\n",
       "time                                                                     \n",
       "2024-12-05 02:05:00+00:00         17.871000      19.8125         10.02   \n",
       "2024-12-05 02:25:00+00:00         18.059999      19.8125         10.19   \n",
       "2024-12-05 04:07:00+00:00         17.871000      19.8750         10.63   \n",
       "2024-12-05 04:13:00+00:00         18.059999      19.8750         10.62   \n",
       "2024-12-05 04:24:00+00:00         18.059999      19.9375         10.62   \n",
       "\n",
       "                          sleep_type  \n",
       "time                                  \n",
       "2024-12-05 02:05:00+00:00       core  \n",
       "2024-12-05 02:25:00+00:00       deep  \n",
       "2024-12-05 04:07:00+00:00        REM  \n",
       "2024-12-05 04:13:00+00:00       core  \n",
       "2024-12-05 04:24:00+00:00        REM  "
      ]
     },
     "execution_count": 508,
     "metadata": {},
     "output_type": "execute_result"
    }
   ],
   "source": [
    "sleep_data.head()"
   ]
  },
  {
   "cell_type": "code",
   "execution_count": 509,
   "metadata": {},
   "outputs": [],
   "source": [
    "sleep_data.to_csv('temperature_sleep_data.csv')"
   ]
  },
  {
   "cell_type": "code",
   "execution_count": null,
   "metadata": {},
   "outputs": [],
   "source": []
  }
 ],
 "metadata": {
  "kernelspec": {
   "display_name": "Python 3",
   "language": "python",
   "name": "python3"
  },
  "language_info": {
   "codemirror_mode": {
    "name": "ipython",
    "version": 3
   },
   "file_extension": ".py",
   "mimetype": "text/x-python",
   "name": "python",
   "nbconvert_exporter": "python",
   "pygments_lexer": "ipython3",
   "version": "3.9.19"
  }
 },
 "nbformat": 4,
 "nbformat_minor": 2
}
